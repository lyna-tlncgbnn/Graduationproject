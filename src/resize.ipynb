{
 "cells": [
  {
   "cell_type": "code",
   "execution_count": 2,
   "id": "483f5ed9-5636-43b6-aa5d-c19afeceb4aa",
   "metadata": {
    "execution": {
     "iopub.execute_input": "2023-04-22T12:04:19.663279Z",
     "iopub.status.busy": "2023-04-22T12:04:19.662663Z",
     "iopub.status.idle": "2023-04-22T12:04:19.975377Z",
     "shell.execute_reply": "2023-04-22T12:04:19.974519Z",
     "shell.execute_reply.started": "2023-04-22T12:04:19.663241Z"
    },
    "scrolled": true,
    "tags": []
   },
   "outputs": [
    {
     "name": "stdout",
     "output_type": "stream",
     "text": [
      "Finish!\r\n"
     ]
    }
   ],
   "source": [
    "\"对图像Resize到512*512\"\r\n",
    "import cv2\r\n",
    "import os\r\n",
    "\r\n",
    "# 设置原图像文件夹路径和目标文件夹路径\r\n",
    "source_folder = '/home/aistudio/val/val_img'\r\n",
    "target_folder = '/home/aistudio/val/val_img_512'\r\n",
    "\r\n",
    "# 获取原图像文件夹中所有的文件名\r\n",
    "files = os.listdir(source_folder)\r\n",
    "\r\n",
    "# 遍历每一个文件，并进行resize操作并输出到目标文件夹\r\n",
    "for file_name in files:\r\n",
    "    # 拼接出完整的原图像路径和目标图像路径\r\n",
    "    source_path = os.path.join(source_folder, file_name)\r\n",
    "    target_path = os.path.join(target_folder, file_name)\r\n",
    "    # 读取原图像文件\r\n",
    "    img = cv2.imread(source_path)\r\n",
    "    # 进行resize操作\r\n",
    "    resized_img = cv2.resize(img, (512, 512))\r\n",
    "    # 输出到目标文件夹\r\n",
    "    cv2.imwrite(target_path, resized_img)\r\n",
    "\r\n",
    "print(\"Finish!\")"
   ]
  },
  {
   "cell_type": "code",
   "execution_count": null,
   "id": "e035acd2-8d56-47bd-a6ca-77c46a2a70a6",
   "metadata": {
    "scrolled": true
   },
   "outputs": [],
   "source": []
  }
 ],
 "metadata": {
  "kernelspec": {
   "display_name": "Python 3",
   "language": "python",
   "name": "py35-paddle1.2.0"
  },
  "language_info": {
   "codemirror_mode": {
    "name": "ipython",
    "version": 3
   },
   "file_extension": ".py",
   "mimetype": "text/x-python",
   "name": "python",
   "nbconvert_exporter": "python",
   "pygments_lexer": "ipython3",
   "version": "3.7.4"
  }
 },
 "nbformat": 4,
 "nbformat_minor": 5
}
